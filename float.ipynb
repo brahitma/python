{
 "cells": [
  {
   "cell_type": "code",
   "execution_count": 8,
   "metadata": {},
   "outputs": [],
   "source": [
    "from decimal import *"
   ]
  },
  {
   "cell_type": "code",
   "execution_count": 9,
   "metadata": {},
   "outputs": [
    {
     "name": "stdout",
     "output_type": "stream",
     "text": [
      "True\n"
     ]
    }
   ],
   "source": [
    "print((0.8 + 0.8) == 1.6)"
   ]
  },
  {
   "cell_type": "code",
   "execution_count": 10,
   "metadata": {},
   "outputs": [
    {
     "name": "stdout",
     "output_type": "stream",
     "text": [
      "False\n"
     ]
    }
   ],
   "source": [
    "print((0.2 + 0.2 + 0.2) == 0.6)"
   ]
  },
  {
   "cell_type": "code",
   "execution_count": 12,
   "metadata": {},
   "outputs": [
    {
     "name": "stdout",
     "output_type": "stream",
     "text": [
      "0.200000000000000011102230246251565404236316680908203125\n"
     ]
    }
   ],
   "source": [
    "print(Decimal(0.2))"
   ]
  },
  {
   "cell_type": "code",
   "execution_count": 13,
   "metadata": {},
   "outputs": [
    {
     "name": "stdout",
     "output_type": "stream",
     "text": [
      "0.59999999999999997779553950749686919152736663818359375\n",
      "0.600000000000000088817841970012523233890533447265625\n"
     ]
    }
   ],
   "source": [
    "print(Decimal(0.6))\n",
    "print(Decimal(0.2 + 0.2 + 0.2))"
   ]
  },
  {
   "cell_type": "code",
   "execution_count": 15,
   "metadata": {},
   "outputs": [
    {
     "name": "stdout",
     "output_type": "stream",
     "text": [
      "(3152519739159347, 4503599627370496)\n",
      "0.1000000000000000055511151231257827021181583404541015625\n",
      "0.1000000000000000055511151231257827021181583404541015625\n"
     ]
    }
   ],
   "source": [
    "print(0.7.as_integer_ratio())\n",
    "\n",
    "print(Decimal(0.1.as_integer_ratio()[0]/0.1.as_integer_ratio()[1]))\n",
    "print(Decimal(0.1))"
   ]
  },
  {
   "cell_type": "code",
   "execution_count": 16,
   "metadata": {},
   "outputs": [
    {
     "name": "stdout",
     "output_type": "stream",
     "text": [
      "0.6999999999999999555910790149937383830547332763671875\n",
      "0.59999999999999997779553950749686919152736663818359375\n"
     ]
    }
   ],
   "source": [
    "print(Decimal(3152519739159347/4503599627370496))\n",
    "print(Decimal(0.6))"
   ]
  },
  {
   "cell_type": "code",
   "execution_count": 17,
   "metadata": {},
   "outputs": [
    {
     "name": "stdout",
     "output_type": "stream",
     "text": [
      "0.6999999999999999555910790149937383830547332763671875\n",
      "0.59999999999999997779553950749686919152736663818359375\n"
     ]
    }
   ],
   "source": [
    "print(Decimal(3152519739159347/4503599627370496))\n",
    "print(Decimal(0.6))"
   ]
  },
  {
   "cell_type": "code",
   "execution_count": 19,
   "metadata": {},
   "outputs": [
    {
     "name": "stdout",
     "output_type": "stream",
     "text": [
      "0x1.6666666666666p-1\n",
      "0.6999999999999999555910790149937383830547332763671875\n"
     ]
    }
   ],
   "source": [
    "print(0.7.hex())\n",
    "print(Decimal(float.fromhex('0x1.6666666666666p-1')))"
   ]
  },
  {
   "cell_type": "code",
   "execution_count": 20,
   "metadata": {},
   "outputs": [
    {
     "data": {
      "text/plain": [
       "False"
      ]
     },
     "execution_count": 20,
     "metadata": {},
     "output_type": "execute_result"
    }
   ],
   "source": [
    "Decimal(0.2)+Decimal(0.2)+Decimal(0.2) == Decimal(0.6)"
   ]
  },
  {
   "cell_type": "code",
   "execution_count": 21,
   "metadata": {},
   "outputs": [
    {
     "name": "stdout",
     "output_type": "stream",
     "text": [
      "Saçmaladın sen de...\n"
     ]
    }
   ],
   "source": [
    "delta = 0.001\n",
    "\n",
    "value = 0.001\n",
    "\n",
    "if (value - 0.0) < delta:\n",
    "  print(\"Değer 0'a çok yakın!\")\n",
    "elif (value - 0.0) > delta:\n",
    "    print(\"Değer 0'a uzak!\")\n",
    "else:\n",
    "    print(\"Saçmaladın sen de...\")"
   ]
  }
 ],
 "metadata": {
  "kernelspec": {
   "display_name": "Python 3",
   "language": "python",
   "name": "python3"
  },
  "language_info": {
   "codemirror_mode": {
    "name": "ipython",
    "version": 3
   },
   "file_extension": ".py",
   "mimetype": "text/x-python",
   "name": "python",
   "nbconvert_exporter": "python",
   "pygments_lexer": "ipython3",
   "version": "3.6.4"
  }
 },
 "nbformat": 4,
 "nbformat_minor": 2
}
