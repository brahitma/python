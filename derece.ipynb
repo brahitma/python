{
 "cells": [
  {
   "cell_type": "code",
   "execution_count": null,
   "metadata": {},
   "outputs": [],
   "source": [
    "print(\"-\" * 30)\n",
    "print(\"1- Celsius'tan Fahrenheits'a\")\n",
    "print(\"2- Fahrenheit'tan Celsius'a\")\n",
    "print(\"3- Celsius'tan Kelvin'e\")\n",
    "print(\"4- Kelvin'den Celsius'a\")\n",
    "print(\"5- Fahrenheit'tan Kelvin'e\")\n",
    "print(\"6- Kelvin'den Fahrenheits'a\")\n",
    "print(\"-\" * 30)\n",
    "\n",
    "choice = input(\"Birim Seçiniz (1, 2, 3, 4, 5, 6): \")\n",
    "\n",
    "if choice == \"1\":\n",
    "    print(\"\\n# Celsius'tan Fahrenheits'a\")\n",
    "    celsius = float(input(\"Girilen değer: \"))\n",
    "    fahrenheit = (celsius * 1.8) + 32\n",
    "    print(\"{} Celsius derece {} Fahrenheit eşittir.\".format(celsius, fahrenheit))\n",
    "elif choice == \"2\":\n",
    "    print(\"\\n# Fahrenheit'tan Celsius'a\")\n",
    "    fahrenheit = float(input(\"Girilen değer: \"))\n",
    "    celsius = (fahrenheit - 32) / 1.8\n",
    "    print(\"{} Fahrenheit  {} Celsius eşittir.\".format(fahrenheit, celsius))\n",
    "elif choice == \"3\":\n",
    "    print(\"\\n# Celsius'tan Kelvin'e\")\n",
    "    fahrenheit = float(input(\"Girilen değer: \"))\n",
    "    celsius = (fahrenheit + 273.15)\n",
    "    print(\"{} Celsius  {} Kelvin eşittir.\".format(fahrenheit, celsius))\n",
    "elif choice == \"4\":\n",
    "    print(\"\\n# Kelvin'den Celsius'a\")\n",
    "    fahrenheit = float(input(\"Girilen değer: \"))\n",
    "    celsius = (fahrenheit - 273.15)\n",
    "    print(\"{} Kelvin  {} Celsius eşittir.\".format(fahrenheit, celsius))  \n",
    "elif choice == \"5\":\n",
    "    print(\"\\n# Fahrenheit'tan Kelvin'e\")\n",
    "    fahrenheit = float(input(\"Girilen değer: \"))\n",
    "    celsius = (fahrenheit - 32) / 1.8\n",
    "    print(\"{} Fahrenheit  {} Kelvin eşittir.\".format(fahrenheit, celsius))    \n",
    "elif choice == \"6\":\n",
    "    print(\"\\n# Kelvin'den Fahrenheits'a\")\n",
    "    fahrenheit = float(input(\"Girilen değer: \"))\n",
    "    celsius = (fahrenheit - 32) / 1.8\n",
    "    print(\"{} Kelvin  {} Fahrenheit eşittir.\".format(fahrenheit, celsius))\n",
    "else:\n",
    "    print(\"Tebrikler! Sen bu süper programı hackledin!.\")"
   ]
  },
  {
   "cell_type": "code",
   "execution_count": 2,
   "metadata": {},
   "outputs": [
    {
     "name": "stdout",
     "output_type": "stream",
     "text": [
      "---------------\n",
      "1) Celsius\n",
      "2) Fahrenheit\n",
      "3) Kelvin\n",
      "---------------\n",
      "Birim Seçiniz (1, 2, 3): 1\n",
      "------------------------------\n",
      "Girilen değer: 15\n",
      "\n",
      " Celsius'tan Fahrenheit'a:\n",
      "15.0 Celsius 59.0 Fahrenheit'a eşittir.\n",
      "\n",
      " Celsius'tan Kelvin'e:\n",
      "15.0 Celsius 288.15 Kelvi'e eşittir.\n"
     ]
    }
   ],
   "source": [
    "print(\"-\" * 15)\n",
    "print(\"1) Celsius\")\n",
    "print(\"2) Fahrenheit\")\n",
    "print(\"3) Kelvin\")\n",
    "print(\"-\" * 15)\n",
    "\n",
    "birim = input(\"Birim Seçiniz (1, 2, 3): \")\n",
    "print (\"-\" * 30)\n",
    "\n",
    "if birim == \"1\":\n",
    "    celsius = float(input(\"Girilen değer: \"))\n",
    "    print(\"\\n Celsius'tan Fahrenheit'a:\")\n",
    "    fahrenheit = (celsius * 1.8) + 32\n",
    "    print(\"{} Celsius {} Fahrenheit'a eşittir.\".format(celsius, fahrenheit))\n",
    "    print(\"\\n Celsius'tan Kelvin'e:\")\n",
    "    kelvin = (celsius + 273.15)\n",
    "    print(\"{} Celsius {} Kelvi'e eşittir.\".format(celsius, kelvin))\n",
    "elif birim == \"2\":\n",
    "    fahrenheit = float(input(\"Girilen değer: \"))\n",
    "    print(\"\\n Fahrenheit'tan Celsius'a:\")\n",
    "    celsius = (fahrenheit - 32) / 1.8\n",
    "    print(\"{} Fahrenheit  {} Celsius'a eşittir.\".format(fahrenheit, celsius))\n",
    "    print(\"\\n Fahrenheit'tan Kelvin'e:\")\n",
    "    kelvin = (fahrenheit - 32) / 1.8 + 273.15\n",
    "    print(\"{} Fahrenheit  {} Kelvin'e eşittir.\".format(fahrenheit, kelvin))\n",
    "elif birim == \"3\":\n",
    "    kelvin = float(input(\"Girilen değer: \"))\n",
    "    print(\"\\n Kelvin'den Celsius'a:\")\n",
    "    celsius = (kelvin - 273.15)\n",
    "    print(\"{} Kelvin  {} Celsius'a eşittir.\".format(kelvin, celsius))\n",
    "    print(\"\\n Kelvin'den Fahrenheit'a:\")\n",
    "    fahrenheit = ((kelvin - 273.15) * 1.8) + 32\n",
    "    print(\"{} Kelvin  {} Fahrenheit'a eşittir.\".format(kelvin, fahrenheit))\n",
    "else:\n",
    "    print (\"Tebrikler! Programın akışını bozdun...\")\n"
   ]
  },
  {
   "cell_type": "code",
   "execution_count": null,
   "metadata": {},
   "outputs": [],
   "source": []
  }
 ],
 "metadata": {
  "kernelspec": {
   "display_name": "Python 3",
   "language": "python",
   "name": "python3"
  },
  "language_info": {
   "codemirror_mode": {
    "name": "ipython",
    "version": 3
   },
   "file_extension": ".py",
   "mimetype": "text/x-python",
   "name": "python",
   "nbconvert_exporter": "python",
   "pygments_lexer": "ipython3",
   "version": "3.6.4"
  }
 },
 "nbformat": 4,
 "nbformat_minor": 2
}
